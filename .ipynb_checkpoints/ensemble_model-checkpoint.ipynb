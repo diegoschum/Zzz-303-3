{
 "cells": [
  {
   "cell_type": "code",
   "execution_count": 1,
   "id": "a9aee0e4",
   "metadata": {},
   "outputs": [],
   "source": [
    "import pandas as pd\n",
    "import numpy as np\n",
    "import seaborn as sns\n",
    "import matplotlib.pyplot as plt\n",
    "from sklearn.metrics import mean_squared_error\n",
    "from sklearn.model_selection import cross_val_score,train_test_split, KFold, cross_val_predict\n",
    "from sklearn.metrics import mean_squared_error,r2_score,roc_curve,auc,precision_recall_curve, accuracy_score, \\\n",
    "recall_score, precision_score, confusion_matrix, mean_absolute_error\n",
    "from sklearn.tree import DecisionTreeRegressor,DecisionTreeClassifier\n",
    "from sklearn.model_selection import GridSearchCV, ParameterGrid, StratifiedKFold, RandomizedSearchCV\n",
    "from sklearn.ensemble import GradientBoostingRegressor,GradientBoostingClassifier,BaggingRegressor,BaggingClassifier, \\\n",
    "AdaBoostRegressor,AdaBoostClassifier,RandomForestRegressor,RandomForestClassifier\n",
    "from sklearn.linear_model import LinearRegression,LogisticRegression\n",
    "from sklearn.neighbors import KNeighborsRegressor\n",
    "from sklearn.preprocessing import StandardScaler\n",
    "from sklearn.impute import KNNImputer\n",
    "from pyearth import Earth\n",
    "import itertools as it\n",
    "import time as time\n",
    "import xgboost as xgb\n",
    "import re "
   ]
  },
  {
   "cell_type": "code",
   "execution_count": 3,
   "id": "c5bef6dc",
   "metadata": {},
   "outputs": [],
   "source": [
    "X_train = pd.read_csv('X_train_stratified.csv')\n",
    "y_train = pd.read_csv('y_train_stratified.csv')\n",
    "X_test = pd.read_csv('X_test_stratified.csv')\n",
    "y_test = pd.read_csv('y_test_stratified.csv')"
   ]
  },
  {
   "cell_type": "code",
   "execution_count": null,
   "id": "233d47a0",
   "metadata": {},
   "outputs": [],
   "source": [
    "# all models\n",
    "dt_model = DecisionTreeClassifier(random_state=1, max_depth=17, max_features = 4, max_leaf_nodes=613).fit(X_train,y_train)\n",
    "bg_model = BaggingClassifier(base_estimator=DecisionTreeClassifier(random_state=1), n_estimators=300, random_state=1,max_features=7, \n",
    "                             max_samples=2500, bootstrap=False,bootstrap_features=False).fit(X_train, y_train)\n",
    "rf_model = \n",
    "xgb_model = \n"
   ]
  },
  {
   "cell_type": "code",
   "execution_count": null,
   "id": "17b19cb8",
   "metadata": {},
   "outputs": [],
   "source": [
    "# Train data:\n",
    "dt_pred = xgb_model.predict(X_train)\n",
    "bg_pred = ada_model.predict(X_train)\n",
    "rf_pred = rf_model.predict(X_train)\n",
    "xgb_pred = xgb_model.predict(X_train)\n",
    "\n",
    "y_pred = (0.1*dt_pred+0.3*bg_pred+0.3*rf_pred+0.3*xgb_pred)\n",
    "print(classification_report(y_train, y_pred))\n",
    "print(confusion_matrix(y_train, y_pred))"
   ]
  },
  {
   "cell_type": "code",
   "execution_count": null,
   "id": "8e34a299",
   "metadata": {},
   "outputs": [],
   "source": [
    "# Test data:\n",
    "dt_pred = xgb_model.predict(X_test)\n",
    "bg_pred = ada_model.predict(X_test)\n",
    "rf_pred = rf_model.predict(X_test)\n",
    "xgb_pred = xgb_model.predict(X_test)\n",
    "\n",
    "y_pred = (0.1*dt_pred+0.3*bg_pred+0.3*rf_pred+0.3*xgb_pred)\n",
    "print(classification_report(y_test, y_pred))\n",
    "print(confusion_matrix(y_test, y_pred))"
   ]
  }
 ],
 "metadata": {
  "kernelspec": {
   "display_name": "Python 3 (ipykernel)",
   "language": "python",
   "name": "python3"
  },
  "language_info": {
   "codemirror_mode": {
    "name": "ipython",
    "version": 3
   },
   "file_extension": ".py",
   "mimetype": "text/x-python",
   "name": "python",
   "nbconvert_exporter": "python",
   "pygments_lexer": "ipython3",
   "version": "3.9.13"
  }
 },
 "nbformat": 4,
 "nbformat_minor": 5
}
