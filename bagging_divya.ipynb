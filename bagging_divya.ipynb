{
 "cells": [
  {
   "cell_type": "code",
   "execution_count": 1,
   "id": "a96c57c7",
   "metadata": {},
   "outputs": [],
   "source": [
    "import pandas as pd\n",
    "import numpy as np\n",
    "import matplotlib.pyplot as plt\n",
    "import seaborn as sns\n",
    "import scipy.stats as stats\n",
    "from sklearn.linear_model import LinearRegression\n",
    "from sklearn.metrics import mean_squared_error\n",
    "from sklearn.model_selection import train_test_split, cross_val_predict\n",
    "from sklearn.tree import DecisionTreeRegressor\n",
    "from sklearn.metrics import mean_absolute_error, classification_report, accuracy_score\n",
    "from sklearn.model_selection import GridSearchCV, ParameterGrid, KFold, StratifiedKFold\n",
    "from sklearn.ensemble import BaggingRegressor,BaggingClassifier\n",
    "from sklearn.linear_model import LinearRegression,LogisticRegression\n",
    "from sklearn.neighbors import KNeighborsRegressor\n",
    "from sklearn.metrics import roc_curve, precision_recall_curve, auc, make_scorer, recall_score, accuracy_score, precision_score, confusion_matrix, mean_squared_error, r2_score\n",
    "from sklearn.tree import DecisionTreeClassifier\n",
    "import matplotlib.pyplot as plt "
   ]
  },
  {
   "cell_type": "code",
   "execution_count": 2,
   "id": "e9802a2d",
   "metadata": {},
   "outputs": [],
   "source": [
    "X_test = pd.read_csv('X_test_stratified.csv')\n",
    "X_train = pd.read_csv('X_train_stratified.csv')\n",
    "y_test = pd.read_csv('y_test_stratified.csv')\n",
    "y_train = pd.read_csv('y_train_stratified.csv')\n",
    "y_train = y_train['quality']"
   ]
  },
  {
   "cell_type": "markdown",
   "id": "017a407b",
   "metadata": {},
   "source": [
    "initial bagging model"
   ]
  },
  {
   "cell_type": "code",
   "execution_count": 3,
   "id": "9ad2de01",
   "metadata": {},
   "outputs": [],
   "source": [
    "initialmodel = BaggingClassifier(base_estimator=DecisionTreeClassifier(random_state=1)).fit(X_train, y_train)"
   ]
  },
  {
   "cell_type": "markdown",
   "id": "0c7bb2f9",
   "metadata": {},
   "source": [
    "using the initial model to predict for X_test"
   ]
  },
  {
   "cell_type": "code",
   "execution_count": 6,
   "id": "bdb470dd",
   "metadata": {},
   "outputs": [
    {
     "name": "stdout",
     "output_type": "stream",
     "text": [
      "Accuracy: 0.6214285714285714\n",
      "              precision    recall  f1-score   support\n",
      "\n",
      "           3       0.00      0.00      0.00         4\n",
      "           4       0.71      0.30      0.43        33\n",
      "           5       0.63      0.65      0.64       291\n",
      "           6       0.61      0.70      0.66       440\n",
      "           7       0.61      0.47      0.53       176\n",
      "           8       0.75      0.51      0.61        35\n",
      "           9       0.00      0.00      0.00         1\n",
      "\n",
      "    accuracy                           0.62       980\n",
      "   macro avg       0.47      0.38      0.41       980\n",
      "weighted avg       0.62      0.62      0.61       980\n",
      "\n"
     ]
    }
   ],
   "source": [
    "y_pred = initialmodel.predict(X_test)\n",
    "\n",
    "print(\"Accuracy:\", accuracy_score(y_test, y_pred))\n",
    "\n",
    "print(classification_report(y_test, y_pred))"
   ]
  },
  {
   "cell_type": "markdown",
   "id": "e03b8086",
   "metadata": {},
   "source": [
    "optimizing bagging hyperparameters for precision/recall"
   ]
  },
  {
   "cell_type": "code",
   "execution_count": 9,
   "id": "dc759051",
   "metadata": {},
   "outputs": [
    {
     "name": "stdout",
     "output_type": "stream",
     "text": [
      "Fitting 5 folds for each of 48 candidates, totalling 240 fits\n",
      "Train accuracy : 0.997\n",
      "Test accuracy : 0.650\n",
      "Best accuracy Through Grid Search : 0.701\n",
      "Best Parameters :  {'base_estimator': DecisionTreeClassifier(random_state=1), 'bootstrap': True, 'bootstrap_features': True, 'max_features': 0.5, 'max_samples': 0.5, 'n_estimators': 250}\n"
     ]
    }
   ],
   "source": [
    "from sklearn.exceptions import FitFailedWarning\n",
    "\n",
    "warnings.filterwarnings('ignore', category=FitFailedWarning)\n",
    "\n",
    "n_samples = X_train.shape[0]\n",
    "n_features = X_train.shape[1]\n",
    "\n",
    "params = {'base_estimator': [DecisionTreeClassifier(random_state = 1)],\n",
    "          'n_estimators': [150,200,250],\n",
    "          'max_samples': [0.5,1.0],\n",
    "          'max_features': [0.5,1.0],\n",
    "          'bootstrap': [True, False],\n",
    "          'bootstrap_features': [True, False]}\n",
    "\n",
    "cv = KFold(n_splits=5,shuffle=True,random_state=1)\n",
    "bagging_classifier_grid = GridSearchCV(BaggingClassifier(random_state=1, n_jobs=-1), \n",
    "                                      param_grid =params, cv=cv, n_jobs=-1, verbose=1,\n",
    "                                      scoring = {'precision': \n",
    "                                                 make_scorer(precision_score, average='weighted', zero_division = 0),\n",
    "           'recall': make_scorer(recall_score, average='weighted', zero_division = 0)}, refit='precision')\n",
    "bagging_classifier_grid.fit(X_train, y_train)\n",
    "\n",
    "print('Train accuracy : %.3f'%bagging_classifier_grid.best_estimator_.score(X_train, y_train))\n",
    "print('Test accuracy : %.3f'%bagging_classifier_grid.best_estimator_.score(X_test, y_test))\n",
    "print('Best accuracy Through Grid Search : %.3f'%bagging_classifier_grid.best_score_)\n",
    "print('Best Parameters : ',bagging_classifier_grid.best_params_)"
   ]
  },
  {
   "cell_type": "markdown",
   "id": "b45a78db",
   "metadata": {},
   "source": [
    "testing the model with optimal hyperparameters for precision/recall on X_test"
   ]
  },
  {
   "cell_type": "code",
   "execution_count": 10,
   "id": "ad85ca3f",
   "metadata": {},
   "outputs": [],
   "source": [
    "model = BaggingClassifier(base_estimator=DecisionTreeClassifier(random_state=1), n_estimators=250, \n",
    "                          random_state=1,max_features=0.5,\n",
    "                        max_samples=0.5, bootstrap=True,bootstrap_features=True).fit(X_train, y_train)\n"
   ]
  },
  {
   "cell_type": "code",
   "execution_count": 11,
   "id": "97b73675",
   "metadata": {},
   "outputs": [
    {
     "name": "stdout",
     "output_type": "stream",
     "text": [
      "Accuracy: 0.65\n",
      "              precision    recall  f1-score   support\n",
      "\n",
      "           3       0.00      0.00      0.00         4\n",
      "           4       0.71      0.15      0.25        33\n",
      "           5       0.71      0.61      0.66       291\n",
      "           6       0.60      0.83      0.70       440\n",
      "           7       0.74      0.40      0.52       176\n",
      "           8       1.00      0.49      0.65        35\n",
      "           9       0.00      0.00      0.00         1\n",
      "\n",
      "    accuracy                           0.65       980\n",
      "   macro avg       0.54      0.35      0.40       980\n",
      "weighted avg       0.67      0.65      0.63       980\n",
      "\n"
     ]
    }
   ],
   "source": [
    "y_pred = model.predict(X_test)\n",
    "\n",
    "print(\"Accuracy:\", accuracy_score(y_test, y_pred))\n",
    "\n",
    "print(classification_report(y_test, y_pred))"
   ]
  },
  {
   "cell_type": "markdown",
   "id": "fb3dc5c4",
   "metadata": {},
   "source": [
    "optimizing bagging hyperparameters for accuracy"
   ]
  },
  {
   "cell_type": "code",
   "execution_count": 12,
   "id": "4daceaad",
   "metadata": {},
   "outputs": [
    {
     "name": "stdout",
     "output_type": "stream",
     "text": [
      "Fitting 5 folds for each of 48 candidates, totalling 240 fits\n",
      "Train accuracy : 1.000\n",
      "Test accuracy : 0.650\n",
      "Best accuracy Through Grid Search : 0.668\n",
      "Best Parameters :  {'base_estimator': DecisionTreeClassifier(random_state=1), 'bootstrap': True, 'bootstrap_features': False, 'max_features': 0.5, 'max_samples': 1.0, 'n_estimators': 150}\n"
     ]
    }
   ],
   "source": [
    "n_samples = X_train.shape[0]\n",
    "n_features = X_train.shape[1]\n",
    "\n",
    "params = {'base_estimator': [DecisionTreeClassifier(random_state = 1)],\n",
    "          'n_estimators': [150,200,250],\n",
    "          'max_samples': [0.5,1.0],\n",
    "          'max_features': [0.5,1.0],\n",
    "          'bootstrap': [True, False],\n",
    "          'bootstrap_features': [True, False]}\n",
    "\n",
    "cv = KFold(n_splits=5,shuffle=True,random_state=1)\n",
    "bagging_classifier_grid = GridSearchCV(BaggingClassifier(random_state=1, n_jobs=-1), \n",
    "                                      param_grid =params, cv=cv, n_jobs=-1, verbose=1,\n",
    "                                      scoring = ['accuracy'], refit='accuracy')\n",
    "bagging_classifier_grid.fit(X_train, y_train)\n",
    "\n",
    "print('Train accuracy : %.3f'%bagging_classifier_grid.best_estimator_.score(X_train, y_train))\n",
    "print('Test accuracy : %.3f'%bagging_classifier_grid.best_estimator_.score(X_test, y_test))\n",
    "print('Best accuracy Through Grid Search : %.3f'%bagging_classifier_grid.best_score_)\n",
    "print('Best Parameters : ',bagging_classifier_grid.best_params_)"
   ]
  },
  {
   "cell_type": "markdown",
   "id": "88534ec4",
   "metadata": {},
   "source": [
    "testing the model with optimal hyperparameters for accuracy on X_test"
   ]
  },
  {
   "cell_type": "code",
   "execution_count": 13,
   "id": "93bc1aa0",
   "metadata": {},
   "outputs": [],
   "source": [
    "model = BaggingClassifier(base_estimator=DecisionTreeClassifier(random_state=1), n_estimators=150, \n",
    "                          random_state=1,max_features=0.5,\n",
    "                        max_samples=1.0, bootstrap=True,bootstrap_features=False).fit(X_train, y_train)"
   ]
  },
  {
   "cell_type": "code",
   "execution_count": 14,
   "id": "62093495",
   "metadata": {},
   "outputs": [
    {
     "name": "stdout",
     "output_type": "stream",
     "text": [
      "Accuracy: 0.65\n",
      "              precision    recall  f1-score   support\n",
      "\n",
      "           3       0.00      0.00      0.00         4\n",
      "           4       0.60      0.18      0.28        33\n",
      "           5       0.70      0.59      0.64       291\n",
      "           6       0.61      0.82      0.70       440\n",
      "           7       0.71      0.44      0.54       176\n",
      "           8       1.00      0.51      0.68        35\n",
      "           9       0.00      0.00      0.00         1\n",
      "\n",
      "    accuracy                           0.65       980\n",
      "   macro avg       0.52      0.36      0.41       980\n",
      "weighted avg       0.66      0.65      0.64       980\n",
      "\n"
     ]
    }
   ],
   "source": [
    "y_pred = model.predict(X_test)\n",
    "\n",
    "print(\"Accuracy:\", accuracy_score(y_test, y_pred))\n",
    "\n",
    "print(classification_report(y_test, y_pred))"
   ]
  },
  {
   "cell_type": "markdown",
   "id": "1aa0b57d",
   "metadata": {},
   "source": [
    "optimizing bagging hyperparameters for accuracy for f1 score"
   ]
  },
  {
   "cell_type": "code",
   "execution_count": 15,
   "id": "f2686630",
   "metadata": {},
   "outputs": [
    {
     "name": "stdout",
     "output_type": "stream",
     "text": [
      "Fitting 5 folds for each of 48 candidates, totalling 240 fits\n",
      "Train accuracy : 1.000\n",
      "Test accuracy : 0.660\n",
      "Best accuracy Through Grid Search : 0.655\n",
      "Best Parameters :  {'base_estimator': DecisionTreeClassifier(random_state=1), 'bootstrap': True, 'bootstrap_features': False, 'max_features': 1.0, 'max_samples': 1.0, 'n_estimators': 250}\n"
     ]
    }
   ],
   "source": [
    "n_samples = X_train.shape[0]\n",
    "n_features = X_train.shape[1]\n",
    "\n",
    "params = {'base_estimator': [DecisionTreeClassifier(random_state = 1)],\n",
    "          'n_estimators': [150,200,250],\n",
    "          'max_samples': [0.5,1.0],\n",
    "          'max_features': [0.5,1.0],\n",
    "          'bootstrap': [True, False],\n",
    "          'bootstrap_features': [True, False]}\n",
    "\n",
    "cv = KFold(n_splits=5,shuffle=True,random_state=1)\n",
    "bagging_classifier_grid = GridSearchCV(BaggingClassifier(random_state=1, n_jobs=-1), \n",
    "                                      param_grid =params, cv=cv, n_jobs=-1, verbose=1,\n",
    "                                      scoring = ['f1_weighted'], refit='f1_weighted')\n",
    "bagging_classifier_grid.fit(X_train, y_train)\n",
    "\n",
    "print('Train accuracy : %.3f'%bagging_classifier_grid.best_estimator_.score(X_train, y_train))\n",
    "print('Test accuracy : %.3f'%bagging_classifier_grid.best_estimator_.score(X_test, y_test))\n",
    "print('Best accuracy Through Grid Search : %.3f'%bagging_classifier_grid.best_score_)\n",
    "print('Best Parameters : ',bagging_classifier_grid.best_params_)"
   ]
  },
  {
   "cell_type": "code",
   "execution_count": 16,
   "id": "cfdb432f",
   "metadata": {},
   "outputs": [],
   "source": [
    "model = BaggingClassifier(base_estimator=DecisionTreeClassifier(random_state=1), n_estimators=250, \n",
    "                          random_state=1,max_features=1.0,\n",
    "                        max_samples=1.0, bootstrap=True,bootstrap_features=False).fit(X_train, y_train)"
   ]
  },
  {
   "cell_type": "code",
   "execution_count": 18,
   "id": "7b54de33",
   "metadata": {},
   "outputs": [
    {
     "name": "stdout",
     "output_type": "stream",
     "text": [
      "Accuracy: 0.6602040816326531\n",
      "              precision    recall  f1-score   support\n",
      "\n",
      "           3       0.00      0.00      0.00         4\n",
      "           4       0.71      0.30      0.43        33\n",
      "           5       0.69      0.66      0.67       291\n",
      "           6       0.63      0.78      0.70       440\n",
      "           7       0.67      0.49      0.57       176\n",
      "           8       1.00      0.54      0.70        35\n",
      "           9       0.00      0.00      0.00         1\n",
      "\n",
      "    accuracy                           0.66       980\n",
      "   macro avg       0.53      0.40      0.44       980\n",
      "weighted avg       0.67      0.66      0.65       980\n",
      "\n"
     ]
    }
   ],
   "source": [
    "y_pred = model.predict(X_test)\n",
    "\n",
    "print(\"Accuracy:\", accuracy_score(y_test, y_pred))\n",
    "\n",
    "print(classification_report(y_test, y_pred))"
   ]
  },
  {
   "cell_type": "code",
   "execution_count": null,
   "id": "26af8362",
   "metadata": {},
   "outputs": [],
   "source": []
  }
 ],
 "metadata": {
  "kernelspec": {
   "display_name": "Python 3 (ipykernel)",
   "language": "python",
   "name": "python3"
  },
  "language_info": {
   "codemirror_mode": {
    "name": "ipython",
    "version": 3
   },
   "file_extension": ".py",
   "mimetype": "text/x-python",
   "name": "python",
   "nbconvert_exporter": "python",
   "pygments_lexer": "ipython3",
   "version": "3.9.12"
  }
 },
 "nbformat": 4,
 "nbformat_minor": 5
}
